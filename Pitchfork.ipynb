{
 "cells": [
  {
   "cell_type": "markdown",
   "id": "e9f6f4a9",
   "metadata": {},
   "source": [
    "# Aquiring the dataset and cleaning"
   ]
  },
  {
   "cell_type": "markdown",
   "id": "9b285e24",
   "metadata": {},
   "source": [
    "## Imports"
   ]
  },
  {
   "cell_type": "code",
   "execution_count": 1,
   "id": "b12b7963",
   "metadata": {},
   "outputs": [],
   "source": [
    "import pandas as pd\n",
    "import sqlite3"
   ]
  },
  {
   "cell_type": "code",
   "execution_count": 99,
   "id": "6adb8b60",
   "metadata": {},
   "outputs": [],
   "source": [
    "#basics\n",
    "import math\n",
    "import pandas as pd\n",
    "import numpy as np\n",
    "import matplotlib.pyplot as plt\n",
    "import seaborn as sns\n",
    "import statsmodels.api as sm\n",
    "import random as random\n",
    "from scipy import stats"
   ]
  },
  {
   "cell_type": "markdown",
   "id": "65bbf5ab",
   "metadata": {},
   "source": [
    "## Importing the tables from DBeaver"
   ]
  },
  {
   "cell_type": "code",
   "execution_count": 4,
   "id": "86a41412",
   "metadata": {},
   "outputs": [],
   "source": [
    "\n",
    "con = sqlite3.connect(\"../../downloads/database.sqlite\")\n",
    "# df = pd.read_sql_query(\"SELECT * from surveys\", con)\n",
    "\n",
    "# # Verify that result of SQL query is stored in the dataframe\n",
    "# print(df.head())"
   ]
  },
  {
   "cell_type": "code",
   "execution_count": 15,
   "id": "1ef9e55e",
   "metadata": {},
   "outputs": [
    {
     "data": {
      "text/html": [
       "<div>\n",
       "<style scoped>\n",
       "    .dataframe tbody tr th:only-of-type {\n",
       "        vertical-align: middle;\n",
       "    }\n",
       "\n",
       "    .dataframe tbody tr th {\n",
       "        vertical-align: top;\n",
       "    }\n",
       "\n",
       "    .dataframe thead th {\n",
       "        text-align: right;\n",
       "    }\n",
       "</style>\n",
       "<table border=\"1\" class=\"dataframe\">\n",
       "  <thead>\n",
       "    <tr style=\"text-align: right;\">\n",
       "      <th></th>\n",
       "      <th>reviewid</th>\n",
       "      <th>artist</th>\n",
       "    </tr>\n",
       "  </thead>\n",
       "  <tbody>\n",
       "    <tr>\n",
       "      <th>0</th>\n",
       "      <td>22703</td>\n",
       "      <td>massive attack</td>\n",
       "    </tr>\n",
       "    <tr>\n",
       "      <th>1</th>\n",
       "      <td>22721</td>\n",
       "      <td>krallice</td>\n",
       "    </tr>\n",
       "    <tr>\n",
       "      <th>2</th>\n",
       "      <td>22659</td>\n",
       "      <td>uranium club</td>\n",
       "    </tr>\n",
       "  </tbody>\n",
       "</table>\n",
       "</div>"
      ],
      "text/plain": [
       "   reviewid          artist\n",
       "0     22703  massive attack\n",
       "1     22721        krallice\n",
       "2     22659    uranium club"
      ]
     },
     "execution_count": 15,
     "metadata": {},
     "output_type": "execute_result"
    }
   ],
   "source": [
    "artists = pd.read_sql_query(\"SELECT * from artists\", con)\n",
    "artists.head(3)"
   ]
  },
  {
   "cell_type": "code",
   "execution_count": 6,
   "id": "44a667a4",
   "metadata": {},
   "outputs": [],
   "source": [
    "content = pd.read_sql_query(\"SELECT * from content\", con)"
   ]
  },
  {
   "cell_type": "code",
   "execution_count": 10,
   "id": "b9da51c8",
   "metadata": {},
   "outputs": [
    {
     "data": {
      "text/html": [
       "<div>\n",
       "<style scoped>\n",
       "    .dataframe tbody tr th:only-of-type {\n",
       "        vertical-align: middle;\n",
       "    }\n",
       "\n",
       "    .dataframe tbody tr th {\n",
       "        vertical-align: top;\n",
       "    }\n",
       "\n",
       "    .dataframe thead th {\n",
       "        text-align: right;\n",
       "    }\n",
       "</style>\n",
       "<table border=\"1\" class=\"dataframe\">\n",
       "  <thead>\n",
       "    <tr style=\"text-align: right;\">\n",
       "      <th></th>\n",
       "      <th>reviewid</th>\n",
       "      <th>content</th>\n",
       "    </tr>\n",
       "  </thead>\n",
       "  <tbody>\n",
       "    <tr>\n",
       "      <th>0</th>\n",
       "      <td>22703</td>\n",
       "      <td>“Trip-hop” eventually became a ’90s punchline,...</td>\n",
       "    </tr>\n",
       "    <tr>\n",
       "      <th>1</th>\n",
       "      <td>22721</td>\n",
       "      <td>Eight years, five albums, and two EPs in, the ...</td>\n",
       "    </tr>\n",
       "    <tr>\n",
       "      <th>2</th>\n",
       "      <td>22659</td>\n",
       "      <td>Minneapolis’ Uranium Club seem to revel in bei...</td>\n",
       "    </tr>\n",
       "  </tbody>\n",
       "</table>\n",
       "</div>"
      ],
      "text/plain": [
       "   reviewid                                            content\n",
       "0     22703  “Trip-hop” eventually became a ’90s punchline,...\n",
       "1     22721  Eight years, five albums, and two EPs in, the ...\n",
       "2     22659  Minneapolis’ Uranium Club seem to revel in bei..."
      ]
     },
     "execution_count": 10,
     "metadata": {},
     "output_type": "execute_result"
    }
   ],
   "source": [
    "content.head(3)"
   ]
  },
  {
   "cell_type": "code",
   "execution_count": 8,
   "id": "7ef2e9f0",
   "metadata": {},
   "outputs": [],
   "source": [
    "genres = pd.read_sql_query(\"SELECT * from genres\", con)"
   ]
  },
  {
   "cell_type": "code",
   "execution_count": 9,
   "id": "3b8260ef",
   "metadata": {},
   "outputs": [
    {
     "data": {
      "text/html": [
       "<div>\n",
       "<style scoped>\n",
       "    .dataframe tbody tr th:only-of-type {\n",
       "        vertical-align: middle;\n",
       "    }\n",
       "\n",
       "    .dataframe tbody tr th {\n",
       "        vertical-align: top;\n",
       "    }\n",
       "\n",
       "    .dataframe thead th {\n",
       "        text-align: right;\n",
       "    }\n",
       "</style>\n",
       "<table border=\"1\" class=\"dataframe\">\n",
       "  <thead>\n",
       "    <tr style=\"text-align: right;\">\n",
       "      <th></th>\n",
       "      <th>reviewid</th>\n",
       "      <th>genre</th>\n",
       "    </tr>\n",
       "  </thead>\n",
       "  <tbody>\n",
       "    <tr>\n",
       "      <th>0</th>\n",
       "      <td>22703</td>\n",
       "      <td>electronic</td>\n",
       "    </tr>\n",
       "    <tr>\n",
       "      <th>1</th>\n",
       "      <td>22721</td>\n",
       "      <td>metal</td>\n",
       "    </tr>\n",
       "    <tr>\n",
       "      <th>2</th>\n",
       "      <td>22659</td>\n",
       "      <td>rock</td>\n",
       "    </tr>\n",
       "  </tbody>\n",
       "</table>\n",
       "</div>"
      ],
      "text/plain": [
       "   reviewid       genre\n",
       "0     22703  electronic\n",
       "1     22721       metal\n",
       "2     22659        rock"
      ]
     },
     "execution_count": 9,
     "metadata": {},
     "output_type": "execute_result"
    }
   ],
   "source": [
    "genres.head(3)"
   ]
  },
  {
   "cell_type": "code",
   "execution_count": 11,
   "id": "f4cb1670",
   "metadata": {},
   "outputs": [
    {
     "data": {
      "text/html": [
       "<div>\n",
       "<style scoped>\n",
       "    .dataframe tbody tr th:only-of-type {\n",
       "        vertical-align: middle;\n",
       "    }\n",
       "\n",
       "    .dataframe tbody tr th {\n",
       "        vertical-align: top;\n",
       "    }\n",
       "\n",
       "    .dataframe thead th {\n",
       "        text-align: right;\n",
       "    }\n",
       "</style>\n",
       "<table border=\"1\" class=\"dataframe\">\n",
       "  <thead>\n",
       "    <tr style=\"text-align: right;\">\n",
       "      <th></th>\n",
       "      <th>reviewid</th>\n",
       "      <th>label</th>\n",
       "    </tr>\n",
       "  </thead>\n",
       "  <tbody>\n",
       "    <tr>\n",
       "      <th>0</th>\n",
       "      <td>22703</td>\n",
       "      <td>virgin</td>\n",
       "    </tr>\n",
       "    <tr>\n",
       "      <th>1</th>\n",
       "      <td>22721</td>\n",
       "      <td>hathenter</td>\n",
       "    </tr>\n",
       "    <tr>\n",
       "      <th>2</th>\n",
       "      <td>22659</td>\n",
       "      <td>static shock</td>\n",
       "    </tr>\n",
       "  </tbody>\n",
       "</table>\n",
       "</div>"
      ],
      "text/plain": [
       "   reviewid         label\n",
       "0     22703        virgin\n",
       "1     22721     hathenter\n",
       "2     22659  static shock"
      ]
     },
     "execution_count": 11,
     "metadata": {},
     "output_type": "execute_result"
    }
   ],
   "source": [
    "labels = pd.read_sql_query(\"SELECT * from labels\", con)\n",
    "labels.head(3)"
   ]
  },
  {
   "cell_type": "code",
   "execution_count": 12,
   "id": "654e34d5",
   "metadata": {},
   "outputs": [
    {
     "data": {
      "text/html": [
       "<div>\n",
       "<style scoped>\n",
       "    .dataframe tbody tr th:only-of-type {\n",
       "        vertical-align: middle;\n",
       "    }\n",
       "\n",
       "    .dataframe tbody tr th {\n",
       "        vertical-align: top;\n",
       "    }\n",
       "\n",
       "    .dataframe thead th {\n",
       "        text-align: right;\n",
       "    }\n",
       "</style>\n",
       "<table border=\"1\" class=\"dataframe\">\n",
       "  <thead>\n",
       "    <tr style=\"text-align: right;\">\n",
       "      <th></th>\n",
       "      <th>reviewid</th>\n",
       "      <th>title</th>\n",
       "      <th>artist</th>\n",
       "      <th>url</th>\n",
       "      <th>score</th>\n",
       "      <th>best_new_music</th>\n",
       "      <th>author</th>\n",
       "      <th>author_type</th>\n",
       "      <th>pub_date</th>\n",
       "      <th>pub_weekday</th>\n",
       "      <th>pub_day</th>\n",
       "      <th>pub_month</th>\n",
       "      <th>pub_year</th>\n",
       "    </tr>\n",
       "  </thead>\n",
       "  <tbody>\n",
       "    <tr>\n",
       "      <th>0</th>\n",
       "      <td>22703</td>\n",
       "      <td>mezzanine</td>\n",
       "      <td>massive attack</td>\n",
       "      <td>http://pitchfork.com/reviews/albums/22703-mezz...</td>\n",
       "      <td>9.3</td>\n",
       "      <td>0</td>\n",
       "      <td>nate patrin</td>\n",
       "      <td>contributor</td>\n",
       "      <td>2017-01-08</td>\n",
       "      <td>6</td>\n",
       "      <td>8</td>\n",
       "      <td>1</td>\n",
       "      <td>2017</td>\n",
       "    </tr>\n",
       "    <tr>\n",
       "      <th>1</th>\n",
       "      <td>22721</td>\n",
       "      <td>prelapsarian</td>\n",
       "      <td>krallice</td>\n",
       "      <td>http://pitchfork.com/reviews/albums/22721-prel...</td>\n",
       "      <td>7.9</td>\n",
       "      <td>0</td>\n",
       "      <td>zoe camp</td>\n",
       "      <td>contributor</td>\n",
       "      <td>2017-01-07</td>\n",
       "      <td>5</td>\n",
       "      <td>7</td>\n",
       "      <td>1</td>\n",
       "      <td>2017</td>\n",
       "    </tr>\n",
       "    <tr>\n",
       "      <th>2</th>\n",
       "      <td>22659</td>\n",
       "      <td>all of them naturals</td>\n",
       "      <td>uranium club</td>\n",
       "      <td>http://pitchfork.com/reviews/albums/22659-all-...</td>\n",
       "      <td>7.3</td>\n",
       "      <td>0</td>\n",
       "      <td>david glickman</td>\n",
       "      <td>contributor</td>\n",
       "      <td>2017-01-07</td>\n",
       "      <td>5</td>\n",
       "      <td>7</td>\n",
       "      <td>1</td>\n",
       "      <td>2017</td>\n",
       "    </tr>\n",
       "  </tbody>\n",
       "</table>\n",
       "</div>"
      ],
      "text/plain": [
       "   reviewid                 title          artist  \\\n",
       "0     22703             mezzanine  massive attack   \n",
       "1     22721          prelapsarian        krallice   \n",
       "2     22659  all of them naturals    uranium club   \n",
       "\n",
       "                                                 url  score  best_new_music  \\\n",
       "0  http://pitchfork.com/reviews/albums/22703-mezz...    9.3               0   \n",
       "1  http://pitchfork.com/reviews/albums/22721-prel...    7.9               0   \n",
       "2  http://pitchfork.com/reviews/albums/22659-all-...    7.3               0   \n",
       "\n",
       "           author  author_type    pub_date  pub_weekday  pub_day  pub_month  \\\n",
       "0     nate patrin  contributor  2017-01-08            6        8          1   \n",
       "1        zoe camp  contributor  2017-01-07            5        7          1   \n",
       "2  david glickman  contributor  2017-01-07            5        7          1   \n",
       "\n",
       "   pub_year  \n",
       "0      2017  \n",
       "1      2017  \n",
       "2      2017  "
      ]
     },
     "execution_count": 12,
     "metadata": {},
     "output_type": "execute_result"
    }
   ],
   "source": [
    "reviews = pd.read_sql_query(\"SELECT * from reviews\", con)\n",
    "reviews.head(3)"
   ]
  },
  {
   "cell_type": "code",
   "execution_count": 13,
   "id": "20fe2049",
   "metadata": {},
   "outputs": [
    {
     "data": {
      "text/html": [
       "<div>\n",
       "<style scoped>\n",
       "    .dataframe tbody tr th:only-of-type {\n",
       "        vertical-align: middle;\n",
       "    }\n",
       "\n",
       "    .dataframe tbody tr th {\n",
       "        vertical-align: top;\n",
       "    }\n",
       "\n",
       "    .dataframe thead th {\n",
       "        text-align: right;\n",
       "    }\n",
       "</style>\n",
       "<table border=\"1\" class=\"dataframe\">\n",
       "  <thead>\n",
       "    <tr style=\"text-align: right;\">\n",
       "      <th></th>\n",
       "      <th>reviewid</th>\n",
       "      <th>year</th>\n",
       "    </tr>\n",
       "  </thead>\n",
       "  <tbody>\n",
       "    <tr>\n",
       "      <th>0</th>\n",
       "      <td>22703</td>\n",
       "      <td>1998.0</td>\n",
       "    </tr>\n",
       "    <tr>\n",
       "      <th>1</th>\n",
       "      <td>22721</td>\n",
       "      <td>2016.0</td>\n",
       "    </tr>\n",
       "    <tr>\n",
       "      <th>2</th>\n",
       "      <td>22659</td>\n",
       "      <td>2016.0</td>\n",
       "    </tr>\n",
       "  </tbody>\n",
       "</table>\n",
       "</div>"
      ],
      "text/plain": [
       "   reviewid    year\n",
       "0     22703  1998.0\n",
       "1     22721  2016.0\n",
       "2     22659  2016.0"
      ]
     },
     "execution_count": 13,
     "metadata": {},
     "output_type": "execute_result"
    }
   ],
   "source": [
    "years = pd.read_sql_query(\"SELECT * from years\", con)\n",
    "years.head(3)"
   ]
  },
  {
   "cell_type": "markdown",
   "id": "4889667e",
   "metadata": {},
   "source": [
    "## Joining and cleaning the dataframes"
   ]
  },
  {
   "cell_type": "code",
   "execution_count": 16,
   "id": "3171ff34",
   "metadata": {},
   "outputs": [
    {
     "data": {
      "text/html": [
       "<div>\n",
       "<style scoped>\n",
       "    .dataframe tbody tr th:only-of-type {\n",
       "        vertical-align: middle;\n",
       "    }\n",
       "\n",
       "    .dataframe tbody tr th {\n",
       "        vertical-align: top;\n",
       "    }\n",
       "\n",
       "    .dataframe thead th {\n",
       "        text-align: right;\n",
       "    }\n",
       "</style>\n",
       "<table border=\"1\" class=\"dataframe\">\n",
       "  <thead>\n",
       "    <tr style=\"text-align: right;\">\n",
       "      <th></th>\n",
       "      <th>reviewid</th>\n",
       "      <th>title</th>\n",
       "      <th>artist</th>\n",
       "      <th>url</th>\n",
       "      <th>score</th>\n",
       "      <th>best_new_music</th>\n",
       "      <th>author</th>\n",
       "      <th>author_type</th>\n",
       "      <th>pub_date</th>\n",
       "      <th>pub_weekday</th>\n",
       "      <th>pub_day</th>\n",
       "      <th>pub_month</th>\n",
       "      <th>pub_year</th>\n",
       "      <th>year</th>\n",
       "    </tr>\n",
       "  </thead>\n",
       "  <tbody>\n",
       "    <tr>\n",
       "      <th>0</th>\n",
       "      <td>22703</td>\n",
       "      <td>mezzanine</td>\n",
       "      <td>massive attack</td>\n",
       "      <td>http://pitchfork.com/reviews/albums/22703-mezz...</td>\n",
       "      <td>9.3</td>\n",
       "      <td>0</td>\n",
       "      <td>nate patrin</td>\n",
       "      <td>contributor</td>\n",
       "      <td>2017-01-08</td>\n",
       "      <td>6</td>\n",
       "      <td>8</td>\n",
       "      <td>1</td>\n",
       "      <td>2017</td>\n",
       "      <td>1998.0</td>\n",
       "    </tr>\n",
       "    <tr>\n",
       "      <th>1</th>\n",
       "      <td>22721</td>\n",
       "      <td>prelapsarian</td>\n",
       "      <td>krallice</td>\n",
       "      <td>http://pitchfork.com/reviews/albums/22721-prel...</td>\n",
       "      <td>7.9</td>\n",
       "      <td>0</td>\n",
       "      <td>zoe camp</td>\n",
       "      <td>contributor</td>\n",
       "      <td>2017-01-07</td>\n",
       "      <td>5</td>\n",
       "      <td>7</td>\n",
       "      <td>1</td>\n",
       "      <td>2017</td>\n",
       "      <td>2016.0</td>\n",
       "    </tr>\n",
       "    <tr>\n",
       "      <th>2</th>\n",
       "      <td>22659</td>\n",
       "      <td>all of them naturals</td>\n",
       "      <td>uranium club</td>\n",
       "      <td>http://pitchfork.com/reviews/albums/22659-all-...</td>\n",
       "      <td>7.3</td>\n",
       "      <td>0</td>\n",
       "      <td>david glickman</td>\n",
       "      <td>contributor</td>\n",
       "      <td>2017-01-07</td>\n",
       "      <td>5</td>\n",
       "      <td>7</td>\n",
       "      <td>1</td>\n",
       "      <td>2017</td>\n",
       "      <td>2016.0</td>\n",
       "    </tr>\n",
       "  </tbody>\n",
       "</table>\n",
       "</div>"
      ],
      "text/plain": [
       "   reviewid                 title          artist  \\\n",
       "0     22703             mezzanine  massive attack   \n",
       "1     22721          prelapsarian        krallice   \n",
       "2     22659  all of them naturals    uranium club   \n",
       "\n",
       "                                                 url  score  best_new_music  \\\n",
       "0  http://pitchfork.com/reviews/albums/22703-mezz...    9.3               0   \n",
       "1  http://pitchfork.com/reviews/albums/22721-prel...    7.9               0   \n",
       "2  http://pitchfork.com/reviews/albums/22659-all-...    7.3               0   \n",
       "\n",
       "           author  author_type    pub_date  pub_weekday  pub_day  pub_month  \\\n",
       "0     nate patrin  contributor  2017-01-08            6        8          1   \n",
       "1        zoe camp  contributor  2017-01-07            5        7          1   \n",
       "2  david glickman  contributor  2017-01-07            5        7          1   \n",
       "\n",
       "   pub_year    year  \n",
       "0      2017  1998.0  \n",
       "1      2017  2016.0  \n",
       "2      2017  2016.0  "
      ]
     },
     "execution_count": 16,
     "metadata": {},
     "output_type": "execute_result"
    }
   ],
   "source": [
    "df_cd = pd.merge(reviews, years, how='inner', on = 'reviewid')\n",
    "df_cd.head(3)"
   ]
  },
  {
   "cell_type": "code",
   "execution_count": 17,
   "id": "b9e80d89",
   "metadata": {},
   "outputs": [],
   "source": [
    "df = pd.merge(df_cd, genres, how='inner', on='reviewid')"
   ]
  },
  {
   "cell_type": "code",
   "execution_count": 148,
   "id": "5dbed459",
   "metadata": {},
   "outputs": [
    {
     "data": {
      "text/html": [
       "<div>\n",
       "<style scoped>\n",
       "    .dataframe tbody tr th:only-of-type {\n",
       "        vertical-align: middle;\n",
       "    }\n",
       "\n",
       "    .dataframe tbody tr th {\n",
       "        vertical-align: top;\n",
       "    }\n",
       "\n",
       "    .dataframe thead th {\n",
       "        text-align: right;\n",
       "    }\n",
       "</style>\n",
       "<table border=\"1\" class=\"dataframe\">\n",
       "  <thead>\n",
       "    <tr style=\"text-align: right;\">\n",
       "      <th></th>\n",
       "      <th>reviewid</th>\n",
       "      <th>title</th>\n",
       "      <th>artist</th>\n",
       "      <th>url</th>\n",
       "      <th>score</th>\n",
       "      <th>best_new_music</th>\n",
       "      <th>author</th>\n",
       "      <th>author_type</th>\n",
       "      <th>pub_date</th>\n",
       "      <th>pub_weekday</th>\n",
       "      <th>pub_day</th>\n",
       "      <th>pub_month</th>\n",
       "      <th>pub_year</th>\n",
       "      <th>year</th>\n",
       "      <th>genre</th>\n",
       "      <th>label</th>\n",
       "    </tr>\n",
       "  </thead>\n",
       "  <tbody>\n",
       "    <tr>\n",
       "      <th>0</th>\n",
       "      <td>22703</td>\n",
       "      <td>mezzanine</td>\n",
       "      <td>massive attack</td>\n",
       "      <td>http://pitchfork.com/reviews/albums/22703-mezz...</td>\n",
       "      <td>9.3</td>\n",
       "      <td>0</td>\n",
       "      <td>nate patrin</td>\n",
       "      <td>contributor</td>\n",
       "      <td>2017-01-08</td>\n",
       "      <td>6</td>\n",
       "      <td>8</td>\n",
       "      <td>1</td>\n",
       "      <td>2017</td>\n",
       "      <td>1998.0</td>\n",
       "      <td>electronic</td>\n",
       "      <td>virgin</td>\n",
       "    </tr>\n",
       "    <tr>\n",
       "      <th>1</th>\n",
       "      <td>22721</td>\n",
       "      <td>prelapsarian</td>\n",
       "      <td>krallice</td>\n",
       "      <td>http://pitchfork.com/reviews/albums/22721-prel...</td>\n",
       "      <td>7.9</td>\n",
       "      <td>0</td>\n",
       "      <td>zoe camp</td>\n",
       "      <td>contributor</td>\n",
       "      <td>2017-01-07</td>\n",
       "      <td>5</td>\n",
       "      <td>7</td>\n",
       "      <td>1</td>\n",
       "      <td>2017</td>\n",
       "      <td>2016.0</td>\n",
       "      <td>metal</td>\n",
       "      <td>hathenter</td>\n",
       "    </tr>\n",
       "    <tr>\n",
       "      <th>2</th>\n",
       "      <td>22659</td>\n",
       "      <td>all of them naturals</td>\n",
       "      <td>uranium club</td>\n",
       "      <td>http://pitchfork.com/reviews/albums/22659-all-...</td>\n",
       "      <td>7.3</td>\n",
       "      <td>0</td>\n",
       "      <td>david glickman</td>\n",
       "      <td>contributor</td>\n",
       "      <td>2017-01-07</td>\n",
       "      <td>5</td>\n",
       "      <td>7</td>\n",
       "      <td>1</td>\n",
       "      <td>2017</td>\n",
       "      <td>2016.0</td>\n",
       "      <td>rock</td>\n",
       "      <td>static shock</td>\n",
       "    </tr>\n",
       "  </tbody>\n",
       "</table>\n",
       "</div>"
      ],
      "text/plain": [
       "   reviewid                 title          artist  \\\n",
       "0     22703             mezzanine  massive attack   \n",
       "1     22721          prelapsarian        krallice   \n",
       "2     22659  all of them naturals    uranium club   \n",
       "\n",
       "                                                 url  score  best_new_music  \\\n",
       "0  http://pitchfork.com/reviews/albums/22703-mezz...    9.3               0   \n",
       "1  http://pitchfork.com/reviews/albums/22721-prel...    7.9               0   \n",
       "2  http://pitchfork.com/reviews/albums/22659-all-...    7.3               0   \n",
       "\n",
       "           author  author_type    pub_date  pub_weekday  pub_day  pub_month  \\\n",
       "0     nate patrin  contributor  2017-01-08            6        8          1   \n",
       "1        zoe camp  contributor  2017-01-07            5        7          1   \n",
       "2  david glickman  contributor  2017-01-07            5        7          1   \n",
       "\n",
       "   pub_year    year       genre         label  \n",
       "0      2017  1998.0  electronic        virgin  \n",
       "1      2017  2016.0       metal     hathenter  \n",
       "2      2017  2016.0        rock  static shock  "
      ]
     },
     "execution_count": 148,
     "metadata": {},
     "output_type": "execute_result"
    }
   ],
   "source": [
    "df.head(3)"
   ]
  },
  {
   "cell_type": "code",
   "execution_count": 20,
   "id": "6d950fbb",
   "metadata": {},
   "outputs": [],
   "source": [
    "df = pd.merge(df, labels, how='inner', on='reviewid')"
   ]
  },
  {
   "cell_type": "code",
   "execution_count": 45,
   "id": "3d93abbd",
   "metadata": {},
   "outputs": [
    {
     "data": {
      "text/plain": [
       "array(['contributor', 'associate reviews editor', 'tracks coordinator',\n",
       "       'associate staff writer', 'contributing editor',\n",
       "       'senior staff writer', 'assistant editor', 'associate editor',\n",
       "       'senior editor', 'executive editor', None, 'deputy news editor',\n",
       "       'associate features editor', 'managing editor', 'editor-in-chief',\n",
       "       'news director'], dtype=object)"
      ]
     },
     "execution_count": 45,
     "metadata": {},
     "output_type": "execute_result"
    }
   ],
   "source": [
    "df['author_type'].unique()"
   ]
  },
  {
   "cell_type": "code",
   "execution_count": 52,
   "id": "669f1ca3",
   "metadata": {},
   "outputs": [],
   "source": [
    "df['author_type'].fillna('contributor', inplace=True)"
   ]
  },
  {
   "cell_type": "code",
   "execution_count": 55,
   "id": "9998ded8",
   "metadata": {},
   "outputs": [],
   "source": [
    "df.dropna(inplace=True)"
   ]
  },
  {
   "cell_type": "code",
   "execution_count": 57,
   "id": "addb97fc",
   "metadata": {},
   "outputs": [
    {
     "name": "stdout",
     "output_type": "stream",
     "text": [
      "<class 'pandas.core.frame.DataFrame'>\n",
      "Int64Index: 22680 entries, 0 to 25920\n",
      "Data columns (total 16 columns):\n",
      " #   Column          Non-Null Count  Dtype  \n",
      "---  ------          --------------  -----  \n",
      " 0   reviewid        22680 non-null  int64  \n",
      " 1   title           22680 non-null  object \n",
      " 2   artist          22680 non-null  object \n",
      " 3   url             22680 non-null  object \n",
      " 4   score           22680 non-null  float64\n",
      " 5   best_new_music  22680 non-null  int64  \n",
      " 6   author          22680 non-null  object \n",
      " 7   author_type     22680 non-null  object \n",
      " 8   pub_date        22680 non-null  object \n",
      " 9   pub_weekday     22680 non-null  int64  \n",
      " 10  pub_day         22680 non-null  int64  \n",
      " 11  pub_month       22680 non-null  int64  \n",
      " 12  pub_year        22680 non-null  int64  \n",
      " 13  year            22680 non-null  float64\n",
      " 14  genre           22680 non-null  object \n",
      " 15  label           22680 non-null  object \n",
      "dtypes: float64(2), int64(6), object(8)\n",
      "memory usage: 2.9+ MB\n"
     ]
    }
   ],
   "source": [
    "df.info()"
   ]
  },
  {
   "cell_type": "markdown",
   "id": "902ba0fa",
   "metadata": {},
   "source": [
    "# Exploratory Analysis"
   ]
  },
  {
   "cell_type": "markdown",
   "id": "739ac8bf",
   "metadata": {},
   "source": [
    "## What are the best reviewed genres?"
   ]
  },
  {
   "cell_type": "code",
   "execution_count": 192,
   "id": "4242115f",
   "metadata": {},
   "outputs": [],
   "source": [
    "genre_df = df.groupby(by=['genre'], as_index=True).agg(\n",
    "    {'score': \"mean\", 'reviewid': 'count', 'best_new_music': 'sum'}).rename(columns={'reviewid':'count'}).reset_index().sort_values(\n",
    "        'score', ascending=False)"
   ]
  },
  {
   "cell_type": "code",
   "execution_count": 193,
   "id": "6191dd79",
   "metadata": {
    "scrolled": true
   },
   "outputs": [],
   "source": [
    "genre_df = genre_df[['genre', 'score', 'count', 'best_new_music']]"
   ]
  },
  {
   "cell_type": "code",
   "execution_count": 194,
   "id": "7767fcfd",
   "metadata": {},
   "outputs": [],
   "source": [
    "genre_df['score'] = genre_df['score'].round(2)"
   ]
  },
  {
   "cell_type": "code",
   "execution_count": 198,
   "id": "d88968dc",
   "metadata": {
    "scrolled": false
   },
   "outputs": [],
   "source": [
    "genre_df['percentage_best_new'] = (genre_df['best_new_music']/ genre_df['count']).round(2)"
   ]
  },
  {
   "cell_type": "code",
   "execution_count": 200,
   "id": "eb278cd8",
   "metadata": {},
   "outputs": [
    {
     "data": {
      "text/html": [
       "<div>\n",
       "<style scoped>\n",
       "    .dataframe tbody tr th:only-of-type {\n",
       "        vertical-align: middle;\n",
       "    }\n",
       "\n",
       "    .dataframe tbody tr th {\n",
       "        vertical-align: top;\n",
       "    }\n",
       "\n",
       "    .dataframe thead th {\n",
       "        text-align: right;\n",
       "    }\n",
       "</style>\n",
       "<table border=\"1\" class=\"dataframe\">\n",
       "  <thead>\n",
       "    <tr style=\"text-align: right;\">\n",
       "      <th></th>\n",
       "      <th>genre</th>\n",
       "      <th>score</th>\n",
       "      <th>count</th>\n",
       "      <th>best_new_music</th>\n",
       "      <th>percentage_best_new</th>\n",
       "    </tr>\n",
       "  </thead>\n",
       "  <tbody>\n",
       "    <tr>\n",
       "      <th>3</th>\n",
       "      <td>global</td>\n",
       "      <td>7.42</td>\n",
       "      <td>263</td>\n",
       "      <td>12</td>\n",
       "      <td>0.05</td>\n",
       "    </tr>\n",
       "    <tr>\n",
       "      <th>1</th>\n",
       "      <td>experimental</td>\n",
       "      <td>7.38</td>\n",
       "      <td>2010</td>\n",
       "      <td>158</td>\n",
       "      <td>0.08</td>\n",
       "    </tr>\n",
       "    <tr>\n",
       "      <th>4</th>\n",
       "      <td>jazz</td>\n",
       "      <td>7.36</td>\n",
       "      <td>471</td>\n",
       "      <td>24</td>\n",
       "      <td>0.05</td>\n",
       "    </tr>\n",
       "    <tr>\n",
       "      <th>2</th>\n",
       "      <td>folk/country</td>\n",
       "      <td>7.22</td>\n",
       "      <td>749</td>\n",
       "      <td>31</td>\n",
       "      <td>0.04</td>\n",
       "    </tr>\n",
       "    <tr>\n",
       "      <th>8</th>\n",
       "      <td>rock</td>\n",
       "      <td>7.00</td>\n",
       "      <td>10571</td>\n",
       "      <td>737</td>\n",
       "      <td>0.07</td>\n",
       "    </tr>\n",
       "    <tr>\n",
       "      <th>5</th>\n",
       "      <td>metal</td>\n",
       "      <td>6.99</td>\n",
       "      <td>944</td>\n",
       "      <td>31</td>\n",
       "      <td>0.03</td>\n",
       "    </tr>\n",
       "    <tr>\n",
       "      <th>0</th>\n",
       "      <td>electronic</td>\n",
       "      <td>6.94</td>\n",
       "      <td>4210</td>\n",
       "      <td>243</td>\n",
       "      <td>0.06</td>\n",
       "    </tr>\n",
       "    <tr>\n",
       "      <th>6</th>\n",
       "      <td>pop/r&amp;b</td>\n",
       "      <td>6.93</td>\n",
       "      <td>1628</td>\n",
       "      <td>124</td>\n",
       "      <td>0.08</td>\n",
       "    </tr>\n",
       "    <tr>\n",
       "      <th>7</th>\n",
       "      <td>rap</td>\n",
       "      <td>6.89</td>\n",
       "      <td>1834</td>\n",
       "      <td>109</td>\n",
       "      <td>0.06</td>\n",
       "    </tr>\n",
       "  </tbody>\n",
       "</table>\n",
       "</div>"
      ],
      "text/plain": [
       "          genre  score  count  best_new_music  percentage_best_new\n",
       "3        global   7.42    263              12                 0.05\n",
       "1  experimental   7.38   2010             158                 0.08\n",
       "4          jazz   7.36    471              24                 0.05\n",
       "2  folk/country   7.22    749              31                 0.04\n",
       "8          rock   7.00  10571             737                 0.07\n",
       "5         metal   6.99    944              31                 0.03\n",
       "0    electronic   6.94   4210             243                 0.06\n",
       "6       pop/r&b   6.93   1628             124                 0.08\n",
       "7           rap   6.89   1834             109                 0.06"
      ]
     },
     "execution_count": 200,
     "metadata": {},
     "output_type": "execute_result"
    }
   ],
   "source": [
    "genre_df"
   ]
  },
  {
   "cell_type": "code",
   "execution_count": 184,
   "id": "0956363d",
   "metadata": {
    "scrolled": true
   },
   "outputs": [
    {
     "name": "stderr",
     "output_type": "stream",
     "text": [
      "/Users/isabellaredford/.pyenv/versions/3.10.6/envs/lewagon/lib/python3.10/site-packages/seaborn/_decorators.py:36: FutureWarning: Pass the following variables as keyword args: x, y. From version 0.12, the only valid positional argument will be `data`, and passing other arguments without an explicit keyword will result in an error or misinterpretation.\n",
      "  warnings.warn(\n"
     ]
    },
    {
     "data": {
      "text/plain": [
       "<AxesSubplot:xlabel='genre', ylabel='score'>"
      ]
     },
     "execution_count": 184,
     "metadata": {},
     "output_type": "execute_result"
    },
    {
     "data": {
      "image/png": "[encoded data removed]",
      "text/plain": [
       "<Figure size 640x480 with 1 Axes>"
      ]
     },
     "metadata": {},
     "output_type": "display_data"
    }
   ],
   "source": [
    "sns.barplot('genre', 'score', data=genre_df)"
   ]
  },
  {
   "cell_type": "code",
   "execution_count": 203,
   "id": "6195bb6e",
   "metadata": {},
   "outputs": [
    {
     "name": "stderr",
     "output_type": "stream",
     "text": [
      "/Users/isabellaredford/.pyenv/versions/3.10.6/envs/lewagon/lib/python3.10/site-packages/seaborn/_decorators.py:36: FutureWarning: Pass the following variables as keyword args: x, y. From version 0.12, the only valid positional argument will be `data`, and passing other arguments without an explicit keyword will result in an error or misinterpretation.\n",
      "  warnings.warn(\n"
     ]
    },
    {
     "data": {
      "image/png": "[encoded data removed]",
      "text/plain": [
       "<Figure size 1600x800 with 1 Axes>"
      ]
     },
     "metadata": {},
     "output_type": "display_data"
    }
   ],
   "source": [
    "plt.figure(figsize=(16,8))\n",
    "sns.barplot('genre', 'percentage_best_new', data=genre_df);"
   ]
  },
  {
   "cell_type": "markdown",
   "id": "32c8688d",
   "metadata": {},
   "source": [
    "## What are the best reviewed labels"
   ]
  },
  {
   "cell_type": "code",
   "execution_count": 213,
   "id": "d28d9350",
   "metadata": {},
   "outputs": [],
   "source": [
    "label_df = df.groupby(by=['label'], as_index=True).agg(\n",
    "    {'score': \"mean\", 'reviewid': 'count', 'best_new_music': 'sum'}).rename(columns={'reviewid':'count'}).reset_index().sort_values(\n",
    "        'count', ascending=False)"
   ]
  },
  {
   "cell_type": "code",
   "execution_count": 214,
   "id": "543a3b0d",
   "metadata": {},
   "outputs": [],
   "source": [
    "label_df_slim = label_df[label_df['count']>150]"
   ]
  },
  {
   "cell_type": "code",
   "execution_count": 215,
   "id": "8a042a92",
   "metadata": {},
   "outputs": [
    {
     "name": "stderr",
     "output_type": "stream",
     "text": [
      "/var/folders/xc/5fgj99cd6fvdfy11d_h89ngh0000gn/T/ipykernel_63337/4186422213.py:1: SettingWithCopyWarning: \n",
      "A value is trying to be set on a copy of a slice from a DataFrame.\n",
      "Try using .loc[row_indexer,col_indexer] = value instead\n",
      "\n",
      "See the caveats in the documentation: https://pandas.pydata.org/pandas-docs/stable/user_guide/indexing.html#returning-a-view-versus-a-copy\n",
      "  label_df_slim['score'] = label_df_slim['score'].round(2)\n"
     ]
    }
   ],
   "source": [
    "label_df_slim['score'] = label_df_slim['score'].round(2)"
   ]
  },
  {
   "cell_type": "code",
   "execution_count": 216,
   "id": "005994df",
   "metadata": {},
   "outputs": [],
   "source": [
    "label_df_slim = label_df_slim.sort_values('score', ascending=False)"
   ]
  },
  {
   "cell_type": "code",
   "execution_count": 217,
   "id": "e4c5a5e0",
   "metadata": {},
   "outputs": [],
   "source": [
    "label_df_slim.reset_index(drop=True, inplace=True)"
   ]
  },
  {
   "cell_type": "code",
   "execution_count": 218,
   "id": "4354f721",
   "metadata": {},
   "outputs": [],
   "source": [
    "label_df_slim['percentage_best_new'] = (label_df_slim['best_new_music']/ label_df_slim['count']).round(2)"
   ]
  },
  {
   "cell_type": "code",
   "execution_count": 220,
   "id": "d73fdc18",
   "metadata": {
    "scrolled": true
   },
   "outputs": [
    {
     "data": {
      "text/html": [
       "<div>\n",
       "<style scoped>\n",
       "    .dataframe tbody tr th:only-of-type {\n",
       "        vertical-align: middle;\n",
       "    }\n",
       "\n",
       "    .dataframe tbody tr th {\n",
       "        vertical-align: top;\n",
       "    }\n",
       "\n",
       "    .dataframe thead th {\n",
       "        text-align: right;\n",
       "    }\n",
       "</style>\n",
       "<table border=\"1\" class=\"dataframe\">\n",
       "  <thead>\n",
       "    <tr style=\"text-align: right;\">\n",
       "      <th></th>\n",
       "      <th>label</th>\n",
       "      <th>score</th>\n",
       "      <th>count</th>\n",
       "      <th>best_new_music</th>\n",
       "      <th>percentage_best_new</th>\n",
       "    </tr>\n",
       "  </thead>\n",
       "  <tbody>\n",
       "    <tr>\n",
       "      <th>2</th>\n",
       "      <td>domino</td>\n",
       "      <td>7.38</td>\n",
       "      <td>283</td>\n",
       "      <td>47</td>\n",
       "      <td>0.17</td>\n",
       "    </tr>\n",
       "    <tr>\n",
       "      <th>9</th>\n",
       "      <td>mute</td>\n",
       "      <td>7.00</td>\n",
       "      <td>236</td>\n",
       "      <td>36</td>\n",
       "      <td>0.15</td>\n",
       "    </tr>\n",
       "    <tr>\n",
       "      <th>0</th>\n",
       "      <td>matador</td>\n",
       "      <td>7.44</td>\n",
       "      <td>209</td>\n",
       "      <td>27</td>\n",
       "      <td>0.13</td>\n",
       "    </tr>\n",
       "    <tr>\n",
       "      <th>6</th>\n",
       "      <td>sub pop</td>\n",
       "      <td>7.19</td>\n",
       "      <td>312</td>\n",
       "      <td>39</td>\n",
       "      <td>0.12</td>\n",
       "    </tr>\n",
       "    <tr>\n",
       "      <th>1</th>\n",
       "      <td>kranky</td>\n",
       "      <td>7.39</td>\n",
       "      <td>157</td>\n",
       "      <td>18</td>\n",
       "      <td>0.11</td>\n",
       "    </tr>\n",
       "    <tr>\n",
       "      <th>15</th>\n",
       "      <td>interscope</td>\n",
       "      <td>6.49</td>\n",
       "      <td>167</td>\n",
       "      <td>16</td>\n",
       "      <td>0.10</td>\n",
       "    </tr>\n",
       "    <tr>\n",
       "      <th>7</th>\n",
       "      <td>warp</td>\n",
       "      <td>7.11</td>\n",
       "      <td>226</td>\n",
       "      <td>23</td>\n",
       "      <td>0.10</td>\n",
       "    </tr>\n",
       "    <tr>\n",
       "      <th>13</th>\n",
       "      <td>capitol</td>\n",
       "      <td>6.56</td>\n",
       "      <td>153</td>\n",
       "      <td>16</td>\n",
       "      <td>0.10</td>\n",
       "    </tr>\n",
       "    <tr>\n",
       "      <th>3</th>\n",
       "      <td>merge</td>\n",
       "      <td>7.34</td>\n",
       "      <td>260</td>\n",
       "      <td>24</td>\n",
       "      <td>0.09</td>\n",
       "    </tr>\n",
       "    <tr>\n",
       "      <th>5</th>\n",
       "      <td>jagjaguwar</td>\n",
       "      <td>7.25</td>\n",
       "      <td>169</td>\n",
       "      <td>15</td>\n",
       "      <td>0.09</td>\n",
       "    </tr>\n",
       "    <tr>\n",
       "      <th>11</th>\n",
       "      <td>columbia</td>\n",
       "      <td>6.91</td>\n",
       "      <td>230</td>\n",
       "      <td>21</td>\n",
       "      <td>0.09</td>\n",
       "    </tr>\n",
       "    <tr>\n",
       "      <th>14</th>\n",
       "      <td>virgin</td>\n",
       "      <td>6.51</td>\n",
       "      <td>157</td>\n",
       "      <td>11</td>\n",
       "      <td>0.07</td>\n",
       "    </tr>\n",
       "    <tr>\n",
       "      <th>4</th>\n",
       "      <td>drag city</td>\n",
       "      <td>7.26</td>\n",
       "      <td>246</td>\n",
       "      <td>14</td>\n",
       "      <td>0.06</td>\n",
       "    </tr>\n",
       "    <tr>\n",
       "      <th>12</th>\n",
       "      <td>warner bros.</td>\n",
       "      <td>6.70</td>\n",
       "      <td>183</td>\n",
       "      <td>11</td>\n",
       "      <td>0.06</td>\n",
       "    </tr>\n",
       "    <tr>\n",
       "      <th>10</th>\n",
       "      <td>self-released</td>\n",
       "      <td>6.99</td>\n",
       "      <td>437</td>\n",
       "      <td>21</td>\n",
       "      <td>0.05</td>\n",
       "    </tr>\n",
       "    <tr>\n",
       "      <th>16</th>\n",
       "      <td>astralwerks</td>\n",
       "      <td>6.28</td>\n",
       "      <td>173</td>\n",
       "      <td>7</td>\n",
       "      <td>0.04</td>\n",
       "    </tr>\n",
       "    <tr>\n",
       "      <th>8</th>\n",
       "      <td>thrill jockey</td>\n",
       "      <td>7.07</td>\n",
       "      <td>262</td>\n",
       "      <td>1</td>\n",
       "      <td>0.00</td>\n",
       "    </tr>\n",
       "  </tbody>\n",
       "</table>\n",
       "</div>"
      ],
      "text/plain": [
       "            label  score  count  best_new_music  percentage_best_new\n",
       "2          domino   7.38    283              47                 0.17\n",
       "9            mute   7.00    236              36                 0.15\n",
       "0         matador   7.44    209              27                 0.13\n",
       "6         sub pop   7.19    312              39                 0.12\n",
       "1          kranky   7.39    157              18                 0.11\n",
       "15     interscope   6.49    167              16                 0.10\n",
       "7            warp   7.11    226              23                 0.10\n",
       "13        capitol   6.56    153              16                 0.10\n",
       "3           merge   7.34    260              24                 0.09\n",
       "5      jagjaguwar   7.25    169              15                 0.09\n",
       "11       columbia   6.91    230              21                 0.09\n",
       "14         virgin   6.51    157              11                 0.07\n",
       "4       drag city   7.26    246              14                 0.06\n",
       "12   warner bros.   6.70    183              11                 0.06\n",
       "10  self-released   6.99    437              21                 0.05\n",
       "16    astralwerks   6.28    173               7                 0.04\n",
       "8   thrill jockey   7.07    262               1                 0.00"
      ]
     },
     "execution_count": 220,
     "metadata": {},
     "output_type": "execute_result"
    }
   ],
   "source": [
    "label_df_slim.sort_values('percentage_best_new', ascending=False)"
   ]
  },
  {
   "cell_type": "code",
   "execution_count": 221,
   "id": "3099bed7",
   "metadata": {},
   "outputs": [
    {
     "name": "stderr",
     "output_type": "stream",
     "text": [
      "/Users/isabellaredford/.pyenv/versions/3.10.6/envs/lewagon/lib/python3.10/site-packages/seaborn/_decorators.py:36: FutureWarning: Pass the following variables as keyword args: x, y. From version 0.12, the only valid positional argument will be `data`, and passing other arguments without an explicit keyword will result in an error or misinterpretation.\n",
      "  warnings.warn(\n"
     ]
    },
    {
     "data": {
      "text/plain": [
       "<AxesSubplot:xlabel='label', ylabel='percentage_best_new'>"
      ]
     },
     "execution_count": 221,
     "metadata": {},
     "output_type": "execute_result"
    },
    {
     "data": {
      "image/png": "[encoded data removed]",
      "text/plain": [
       "<Figure size 2000x800 with 1 Axes>"
      ]
     },
     "metadata": {},
     "output_type": "display_data"
    }
   ],
   "source": [
    "plt.figure(figsize=(20,8))\n",
    "sns.barplot('label', 'percentage_best_new', data=label_df_slim)"
   ]
  },
  {
   "cell_type": "code",
   "execution_count": 210,
   "id": "489df532",
   "metadata": {},
   "outputs": [
    {
     "name": "stderr",
     "output_type": "stream",
     "text": [
      "/Users/isabellaredford/.pyenv/versions/3.10.6/envs/lewagon/lib/python3.10/site-packages/seaborn/_decorators.py:36: FutureWarning: Pass the following variables as keyword args: x, y. From version 0.12, the only valid positional argument will be `data`, and passing other arguments without an explicit keyword will result in an error or misinterpretation.\n",
      "  warnings.warn(\n"
     ]
    },
    {
     "data": {
      "text/plain": [
       "<AxesSubplot:xlabel='label', ylabel='score'>"
      ]
     },
     "execution_count": 210,
     "metadata": {},
     "output_type": "execute_result"
    },
    {
     "data": {
      "image/png": "[encoded data removed]",
      "text/plain": [
       "<Figure size 2000x800 with 1 Axes>"
      ]
     },
     "metadata": {},
     "output_type": "display_data"
    }
   ],
   "source": [
    "plt.figure(figsize=(20,8))\n",
    "sns.barplot('label', 'score', data=label_df_slim)"
   ]
  },
  {
   "cell_type": "markdown",
   "id": "65400b6f",
   "metadata": {},
   "source": [
    "## What is the best day of the week?"
   ]
  },
  {
   "cell_type": "code",
   "execution_count": null,
   "id": "24a9fba8",
   "metadata": {},
   "outputs": [],
   "source": []
  },
  {
   "cell_type": "code",
   "execution_count": 224,
   "id": "179fcbed",
   "metadata": {},
   "outputs": [],
   "source": [
    "day_df = df.groupby(by=['pub_weekday'], as_index=True).agg(\n",
    "    {'score': \"mean\", 'reviewid': 'count', 'best_new_music': 'sum'}).rename(columns={'reviewid':'count'}).reset_index().sort_values(\n",
    "        'score', ascending=False)"
   ]
  },
  {
   "cell_type": "code",
   "execution_count": 225,
   "id": "aea5c39a",
   "metadata": {},
   "outputs": [
    {
     "data": {
      "text/html": [
       "<div>\n",
       "<style scoped>\n",
       "    .dataframe tbody tr th:only-of-type {\n",
       "        vertical-align: middle;\n",
       "    }\n",
       "\n",
       "    .dataframe tbody tr th {\n",
       "        vertical-align: top;\n",
       "    }\n",
       "\n",
       "    .dataframe thead th {\n",
       "        text-align: right;\n",
       "    }\n",
       "</style>\n",
       "<table border=\"1\" class=\"dataframe\">\n",
       "  <thead>\n",
       "    <tr style=\"text-align: right;\">\n",
       "      <th></th>\n",
       "      <th>pub_weekday</th>\n",
       "      <th>score</th>\n",
       "      <th>count</th>\n",
       "      <th>best_new_music</th>\n",
       "    </tr>\n",
       "  </thead>\n",
       "  <tbody>\n",
       "    <tr>\n",
       "      <th>5</th>\n",
       "      <td>5</td>\n",
       "      <td>7.428947</td>\n",
       "      <td>228</td>\n",
       "      <td>12</td>\n",
       "    </tr>\n",
       "    <tr>\n",
       "      <th>4</th>\n",
       "      <td>4</td>\n",
       "      <td>7.081973</td>\n",
       "      <td>3162</td>\n",
       "      <td>269</td>\n",
       "    </tr>\n",
       "    <tr>\n",
       "      <th>0</th>\n",
       "      <td>0</td>\n",
       "      <td>7.025718</td>\n",
       "      <td>4390</td>\n",
       "      <td>321</td>\n",
       "    </tr>\n",
       "    <tr>\n",
       "      <th>1</th>\n",
       "      <td>1</td>\n",
       "      <td>7.025259</td>\n",
       "      <td>4830</td>\n",
       "      <td>319</td>\n",
       "    </tr>\n",
       "    <tr>\n",
       "      <th>6</th>\n",
       "      <td>6</td>\n",
       "      <td>7.018454</td>\n",
       "      <td>1268</td>\n",
       "      <td>36</td>\n",
       "    </tr>\n",
       "    <tr>\n",
       "      <th>3</th>\n",
       "      <td>3</td>\n",
       "      <td>7.008523</td>\n",
       "      <td>4388</td>\n",
       "      <td>282</td>\n",
       "    </tr>\n",
       "    <tr>\n",
       "      <th>2</th>\n",
       "      <td>2</td>\n",
       "      <td>6.992728</td>\n",
       "      <td>4414</td>\n",
       "      <td>230</td>\n",
       "    </tr>\n",
       "  </tbody>\n",
       "</table>\n",
       "</div>"
      ],
      "text/plain": [
       "   pub_weekday     score  count  best_new_music\n",
       "5            5  7.428947    228              12\n",
       "4            4  7.081973   3162             269\n",
       "0            0  7.025718   4390             321\n",
       "1            1  7.025259   4830             319\n",
       "6            6  7.018454   1268              36\n",
       "3            3  7.008523   4388             282\n",
       "2            2  6.992728   4414             230"
      ]
     },
     "execution_count": 225,
     "metadata": {},
     "output_type": "execute_result"
    }
   ],
   "source": [
    "day_df"
   ]
  },
  {
   "cell_type": "code",
   "execution_count": 226,
   "id": "a4990c46",
   "metadata": {},
   "outputs": [],
   "source": [
    "day_df['percentage_best_new'] = (day_df['best_new_music']/ day_df['count']).round(2)"
   ]
  },
  {
   "cell_type": "code",
   "execution_count": 228,
   "id": "3af44cbb",
   "metadata": {},
   "outputs": [
    {
     "data": {
      "text/html": [
       "<div>\n",
       "<style scoped>\n",
       "    .dataframe tbody tr th:only-of-type {\n",
       "        vertical-align: middle;\n",
       "    }\n",
       "\n",
       "    .dataframe tbody tr th {\n",
       "        vertical-align: top;\n",
       "    }\n",
       "\n",
       "    .dataframe thead th {\n",
       "        text-align: right;\n",
       "    }\n",
       "</style>\n",
       "<table border=\"1\" class=\"dataframe\">\n",
       "  <thead>\n",
       "    <tr style=\"text-align: right;\">\n",
       "      <th></th>\n",
       "      <th>pub_weekday</th>\n",
       "      <th>score</th>\n",
       "      <th>count</th>\n",
       "      <th>best_new_music</th>\n",
       "      <th>percentage_best_new</th>\n",
       "    </tr>\n",
       "  </thead>\n",
       "  <tbody>\n",
       "    <tr>\n",
       "      <th>4</th>\n",
       "      <td>4</td>\n",
       "      <td>7.081973</td>\n",
       "      <td>3162</td>\n",
       "      <td>269</td>\n",
       "      <td>0.09</td>\n",
       "    </tr>\n",
       "    <tr>\n",
       "      <th>0</th>\n",
       "      <td>0</td>\n",
       "      <td>7.025718</td>\n",
       "      <td>4390</td>\n",
       "      <td>321</td>\n",
       "      <td>0.07</td>\n",
       "    </tr>\n",
       "    <tr>\n",
       "      <th>1</th>\n",
       "      <td>1</td>\n",
       "      <td>7.025259</td>\n",
       "      <td>4830</td>\n",
       "      <td>319</td>\n",
       "      <td>0.07</td>\n",
       "    </tr>\n",
       "    <tr>\n",
       "      <th>3</th>\n",
       "      <td>3</td>\n",
       "      <td>7.008523</td>\n",
       "      <td>4388</td>\n",
       "      <td>282</td>\n",
       "      <td>0.06</td>\n",
       "    </tr>\n",
       "    <tr>\n",
       "      <th>5</th>\n",
       "      <td>5</td>\n",
       "      <td>7.428947</td>\n",
       "      <td>228</td>\n",
       "      <td>12</td>\n",
       "      <td>0.05</td>\n",
       "    </tr>\n",
       "    <tr>\n",
       "      <th>2</th>\n",
       "      <td>2</td>\n",
       "      <td>6.992728</td>\n",
       "      <td>4414</td>\n",
       "      <td>230</td>\n",
       "      <td>0.05</td>\n",
       "    </tr>\n",
       "    <tr>\n",
       "      <th>6</th>\n",
       "      <td>6</td>\n",
       "      <td>7.018454</td>\n",
       "      <td>1268</td>\n",
       "      <td>36</td>\n",
       "      <td>0.03</td>\n",
       "    </tr>\n",
       "  </tbody>\n",
       "</table>\n",
       "</div>"
      ],
      "text/plain": [
       "   pub_weekday     score  count  best_new_music  percentage_best_new\n",
       "4            4  7.081973   3162             269                 0.09\n",
       "0            0  7.025718   4390             321                 0.07\n",
       "1            1  7.025259   4830             319                 0.07\n",
       "3            3  7.008523   4388             282                 0.06\n",
       "5            5  7.428947    228              12                 0.05\n",
       "2            2  6.992728   4414             230                 0.05\n",
       "6            6  7.018454   1268              36                 0.03"
      ]
     },
     "execution_count": 228,
     "metadata": {},
     "output_type": "execute_result"
    }
   ],
   "source": [
    "day_df.sort_values('percentage_best_new', ascending=False)"
   ]
  },
  {
   "cell_type": "markdown",
   "id": "dcca3214",
   "metadata": {},
   "source": [
    "## A look at Review Content"
   ]
  },
  {
   "cell_type": "code",
   "execution_count": 238,
   "id": "57ca2165",
   "metadata": {},
   "outputs": [
    {
     "data": {
      "text/plain": [
       "'Minneapolis’ Uranium Club seem to revel in being aggressively obtuse. They sprung up last year with their Human Exploration EP, an eight-song tape of some of the most tightly-wound, gleefully mean, and well-constructed punk to grace the underground in a while. Human Exploration quickly became a must-have of the punk scene, receiving multiple vinyl pressings, all while the band rejected any web presence and most interviews as well.All of Them Naturals, their second EP, is Uranium Club indulging even more in such pranksterish qualities. The first two minutes of audio are pulled from the Nation of Ulysses handbook of sarcasm and myth-making, as a man with a vaguely British accent comments fictitiously on all the band has supposedly accomplished since its last record, from selling novelty pencils to distributing pamphlets for “pseudo-intellectual literature circles and swingers’ parties.” Uranium Club must know that people have been patiently waiting to hear more from them, and the final track of All of Them Naturals winkingly plays into that: it’s a 30-second “excerpt” of another unreleased song.In between, Uranium Club spits out some pretty damn catchy, no-frills punk rock. They have quickly garnered comparisons to Devo, particularly the twitchy neurosis of the early Q: Are We Not Men? A: We Are Devo! era. It’s not unwarranted.\\xa0Both bands share an affinity for guitar riffs so soaked in treble they could cut ear drums, and for attempting to shove as many starts and stops into a song as possible. “God’s Chest” is the frantic centerpiece of this release, and maybe the most directly hooky\\xa0thing the band has crafted; it even incorporates some haywire synths near the end, a first for the band.Not that Uranium Club’s reference points are strictly in the past. The sour intro of “Operation Pt.II” clearly evokes Tyvek and the lo-fi punk that the Detroit\\xa0outfit has\\xa0been cultivating for over\\xa0a decade, as do\\xa0the relentless jagged hits of “The Lottery.” Contemporaries like the Coneheads (and, to a lesser extent, the enigmatic Northwest Indiana punk scene as a whole) have been melding old school punk love to the modern trash punk aesthetic, and are also here in spirit.The real secret of Uranium Club, though, is how casually talented they are. Besides the ridiculous precision of their playing, the interplay of the guitars clearly takes some notes from\\xa0Wipers; the music is decidedly crude, but it’s still played with a well-honed intensity that flares up again and again. The buzzsaw solo in the middle of “Opus,” or gradual buildup and release of tension on “That Clown’s Got a Gun,” wouldn’t hit nearly as hard if it weren’t performed so forcefully here. Every song relishes in a ragged intensity, but never for a moment feels as if it could spiral out of control or fall apart, a rarity for bands in this genre.Of course, Uranium Club has the perfect mask for their technical skills:\\xa0lyrics marred by a sardonic sense of humor. “The Lottery” spins a relentless tale of someone turning into an absolute monster upon hitting the jackpot, throwing everyone from their son to their mom under the bus. “Who Made the Man?,” with its constant repetition of that platitude, drives ever-darker emphasis on the consequences of your actions, from success to murder. Uranium Club is a band unafraid to toss a line like “Will you please piss on my teddy bear?” into a song for the pure sake of disorientation. The band clearly wants to keep everyone on edge. If the Uranium Club is anything, it is at least very self-aware of exactly what it is doing.'"
      ]
     },
     "execution_count": 238,
     "metadata": {},
     "output_type": "execute_result"
    }
   ],
   "source": [
    "content['content'][2]"
   ]
  },
  {
   "cell_type": "code",
   "execution_count": 230,
   "id": "1ea87ab8",
   "metadata": {},
   "outputs": [],
   "source": [
    "df_content = pd.merge(df, content, how='inner', on='reviewid')"
   ]
  },
  {
   "cell_type": "code",
   "execution_count": 233,
   "id": "d7f82c30",
   "metadata": {},
   "outputs": [
    {
     "name": "stdout",
     "output_type": "stream",
     "text": [
      "<class 'pandas.core.frame.DataFrame'>\n",
      "Int64Index: 22728 entries, 0 to 22727\n",
      "Data columns (total 17 columns):\n",
      " #   Column          Non-Null Count  Dtype  \n",
      "---  ------          --------------  -----  \n",
      " 0   reviewid        22728 non-null  int64  \n",
      " 1   title           22728 non-null  object \n",
      " 2   artist          22728 non-null  object \n",
      " 3   url             22728 non-null  object \n",
      " 4   score           22728 non-null  float64\n",
      " 5   best_new_music  22728 non-null  int64  \n",
      " 6   author          22728 non-null  object \n",
      " 7   author_type     22728 non-null  object \n",
      " 8   pub_date        22728 non-null  object \n",
      " 9   pub_weekday     22728 non-null  int64  \n",
      " 10  pub_day         22728 non-null  int64  \n",
      " 11  pub_month       22728 non-null  int64  \n",
      " 12  pub_year        22728 non-null  int64  \n",
      " 13  year            22728 non-null  float64\n",
      " 14  genre           22728 non-null  object \n",
      " 15  label           22728 non-null  object \n",
      " 16  content         22728 non-null  object \n",
      "dtypes: float64(2), int64(6), object(9)\n",
      "memory usage: 3.1+ MB\n"
     ]
    }
   ],
   "source": [
    "df_content.info()"
   ]
  },
  {
   "cell_type": "code",
   "execution_count": null,
   "id": "63663860",
   "metadata": {},
   "outputs": [],
   "source": []
  }
 ],
 "metadata": {
  "kernelspec": {
   "display_name": "Python 3 (ipykernel)",
   "language": "python",
   "name": "python3"
  },
  "language_info": {
   "codemirror_mode": {
    "name": "ipython",
    "version": 3
   },
   "file_extension": ".py",
   "mimetype": "text/x-python",
   "name": "python",
   "nbconvert_exporter": "python",
   "pygments_lexer": "ipython3",
   "version": "3.10.6"
  },
  "toc": {
   "base_numbering": 1,
   "nav_menu": {},
   "number_sections": true,
   "sideBar": true,
   "skip_h1_title": false,
   "title_cell": "Table of Contents",
   "title_sidebar": "Contents",
   "toc_cell": false,
   "toc_position": {},
   "toc_section_display": true,
   "toc_window_display": false
  }
 },
 "nbformat": 4,
 "nbformat_minor": 5
}
